{
 "cells": [
  {
   "cell_type": "markdown",
   "id": "fefcd9ba",
   "metadata": {},
   "source": [
    "# Sebelum mbgd"
   ]
  },
  {
   "cell_type": "markdown",
   "id": "d2fd04a8",
   "metadata": {},
   "source": [
    "### Rule of thumb\n",
    "\n",
    "* matriks/vektor selain y_predict tidak perlu disimpan"
   ]
  },
  {
   "cell_type": "code",
   "execution_count": 1,
   "id": "848d21d1",
   "metadata": {},
   "outputs": [],
   "source": [
    "import numpy as np\n",
    "import sys\n",
    "from pytictoc import TicToc\n",
    "\n",
    "class ActivationFunction:\n",
    "    def __init__(self):\n",
    "        pass\n",
    "    \n",
    "    def tanh(z):\n",
    "        return np.tanh(z)\n",
    "    \n",
    "    def dtanh(z):\n",
    "        return 1 - z**2\n",
    "\n",
    "    def sigmoid(z):\n",
    "        return 1 / (1 + np.exp(-z))\n",
    "    \n",
    "    def dsigmoid(z):\n",
    "        return z * (1 - z)\n",
    "\n",
    "    def softmax(z):\n",
    "        T,K = z.shape[0], z.shape[1]\n",
    "\n",
    "        A = np.zeros((T,K))\n",
    "\n",
    "        for t in range(T):\n",
    "            row_sum = np.sum([np.exp(x) for x in z[t,:]])\n",
    "            for k in range(K):\n",
    "                A[t,k] = np.exp(z[t,k]) / row_sum\n",
    "\n",
    "        return A\n",
    "    \n",
    "    def dsoftmax(z):\n",
    "        return z * (1 - z)\n",
    "\n",
    "class Optimizer:\n",
    "    def __init__(self):\n",
    "        pass\n",
    "\n",
    "    def grad_descent(self, A, y):\n",
    "        T = self.num_observation\n",
    "        K = self.num_feature\n",
    "        \n",
    "        e   = y - self.y_predict\n",
    "        one = np.ones((1,T))\n",
    "\n",
    "        # hitung delta\n",
    "        delta = [None for i in range(self.banyak_layer)]\n",
    "        delta[-1] = -e / T\n",
    "        for i in range(self.banyak_layer - 2, 0, -1):  # iterasi mundur\n",
    "            delta[i] = delta[i+1] @ self.W[i].T * getattr(ActivationFunction, 'd'+self.activation[i])(A[i])\n",
    "        \n",
    "        # koreksi W and b\n",
    "        for i in range(self.banyak_layer - 2, -1, -1):\n",
    "            self.W[i] -= self.learning_rate * A[i].T @ delta[i+1]\n",
    "            self.b[i] -= self.learning_rate * one @ delta[i+1]\n",
    "            \n",
    "class Layers:\n",
    "    def __init__(self, neurons, activation, input_shape=None):\n",
    "        self.neurons     = neurons\n",
    "        self.activation  = activation\n",
    "        self.input_shape = input_shape\n",
    "\n",
    "class CostFunction:\n",
    "    def __init__(self):\n",
    "        pass\n",
    "    \n",
    "    def mse(self, dictionary):\n",
    "        if dictionary == self.history:\n",
    "            y         = self.train_label\n",
    "            y_predict = self.y_predict\n",
    "        elif dictionary == self.val_history:\n",
    "            y         = self.y_val\n",
    "            y_predict = self.forward(self.x_val)[-1]\n",
    "        \n",
    "        return 1/2 * np.sum((y - y_predict)**2)\n",
    "    \n",
    "    def cross_entropy(self, dictionary):\n",
    "        if dictionary == self.history:\n",
    "            y         = self.train_label\n",
    "            y_predict = self.y_predict\n",
    "        elif dictionary == self.val_history:\n",
    "            y         = self.y_val\n",
    "            y_predict = self.forward(self.x_val)[-1]\n",
    "        \n",
    "        T = y.shape[0]\n",
    "        \n",
    "        return -1/T * np.sum(y * np.log(y_predict) + (1 - y) * np.log(1 - y_predict))\n",
    "\n",
    "class NeuralNetwork(Optimizer, CostFunction):\n",
    "    def __init__(self):\n",
    "        \"\"\"\n",
    "        Daftar layer berisi informasi semua layer: jumlah neuron dan fungsi aktivasi\n",
    "        Elemen pertama daftar layer akan dikosongkan karena berkaitan dengan input layer\n",
    "        \"\"\"\n",
    "        \n",
    "        self.daftar_layer = [None]           \n",
    "    \n",
    "    def add_layer(self, layer):\n",
    "        \"\"\"Digunakan untuk menambahkan layer\"\"\"\n",
    "        \n",
    "        self.daftar_layer.append(layer)\n",
    "    \n",
    "    def compile(self, optimizer, loss_function):\n",
    "        \"\"\"Digunakan untuk menentukan optimizer dan cost function\"\"\"\n",
    "        \n",
    "        # memastikan loss function dan optimizer ada di pilihan\n",
    "        assert optimizer in ['grad_descent']\n",
    "        assert loss_function in ['mse', 'cross_entropy']\n",
    "        \n",
    "        self.optimizer     = optimizer\n",
    "        self.loss_function = loss_function\n",
    "    \n",
    "    def forward(self, X):\n",
    "        \"\"\"\n",
    "        Forward propagation\n",
    "        Menghasilkan matriks A,\n",
    "        bisa digunakan untuk backward propagation\n",
    "        \"\"\"\n",
    "        \n",
    "        Z = [None for i in range(self.banyak_layer)]\n",
    "        A = [X] + [None for i in range(self.banyak_layer - 1)]\n",
    "        \n",
    "        for i in range(1, self.banyak_layer):\n",
    "            Z[i] = A[i-1] @ self.W[i-1] + self.b[i-1]\n",
    "            A[i] = getattr(ActivationFunction, self.activation[i])(Z[i])\n",
    "        \n",
    "        return A\n",
    "    \n",
    "    def backward(self, A, y):\n",
    "        \"\"\"Backward propagation\"\"\"\n",
    "        \n",
    "        if self.optimizer == \"grad_descent\":\n",
    "            self.grad_descent(A, y)\n",
    "            \n",
    "    def add_training_time(self, dictionary):\n",
    "        time = self.timer.tocvalue(restart=True)\n",
    "        time = \"{:.2f}\".format(time)\n",
    "        dictionary['training_time'].append(time)\n",
    "        \n",
    "    def add_accuracy(self, dictionary):\n",
    "        if dictionary == self.history:\n",
    "            y         = self.train_label\n",
    "            y_predict = self.y_predict\n",
    "        elif dictionary == self.val_history:\n",
    "            y         = self.y_val\n",
    "            y_predict = self.forward(self.x_val)[-1]\n",
    "            \n",
    "        jawaban = np.argmax(y_predict, axis=1)\n",
    "        kunci_jawaban = np.argmax(y, axis=1)\n",
    "        periksa = (jawaban == kunci_jawaban).astype('int8')\n",
    "        accuracy = np.sum(periksa) / len(y)\n",
    "        dictionary['accuracy'].append(accuracy)\n",
    "        \n",
    "    def add_loss(self, dictionary):\n",
    "        loss = getattr(CostFunction, self.loss_function)(self, dictionary)\n",
    "        dictionary['loss'].append(loss)\n",
    "           \n",
    "    def show_training_time(self):\n",
    "        time = self.history['training_time'][-1] # mengambil waktu training yang terakhir ditambahkan\n",
    "        print(f\"training time: {time}s - \", end='')\n",
    "        \n",
    "    def show_loss(self):\n",
    "        formatter = \"{:.4f}\"\n",
    "        loss = self.history['loss'][-1] # mengambil loss yang terakhir ditambahkan\n",
    "        print(\"loss: \", end='')\n",
    "        if loss < 10:\n",
    "            print(' ', end='')\n",
    "        print(formatter.format(loss), end='')\n",
    "        print(' - ', end='')\n",
    "        \n",
    "    def show_accuracy(self):\n",
    "        formatter = \"{:.4f}\"\n",
    "        accuracy = self.history['accuracy'][-1] # mengambil akurasi yang terakhir ditambahkan\n",
    "        print(\"accuracy:\", formatter.format(accuracy))\n",
    "        \n",
    "    def result_without_progress_bar(self, i):\n",
    "        epoch = self.epoch\n",
    "        if epoch >= 10:\n",
    "            if i == epoch-1 or (i+1)%(epoch/5) == 0:\n",
    "                print(f\"Epoch {i+1}/{epoch}\")\n",
    "                self.show_training_time() # training time\n",
    "                self.show_loss()          # loss\n",
    "                self.show_accuracy()      # accuracy\n",
    "        else:\n",
    "            print(f\"Epoch {i+1}/{epoch}\")\n",
    "            self.show_training_time()    # training time\n",
    "            self.show_loss()             # loss\n",
    "            self.show_accuracy()         # accuracy\n",
    "        \n",
    "    def result_with_progress_bar(self, i):\n",
    "        epoch = self.epoch\n",
    "        time = self.history['training_time'][-1]\n",
    "        loss = self.history['loss'][-1]\n",
    "        accuracy = self.history['accuracy'][-1]\n",
    "        \n",
    "        formatter = \"{:.4f}\"\n",
    "        \n",
    "        sys.stdout.write(\n",
    "            '\\r'\n",
    "            + 'Epoch ' + str(i+1) + '/' + str(epoch) + (len(str(epoch))-len(str(i+1)))*' ' + ' - '\n",
    "            + 'training time: ' + time + 's - '\n",
    "            + 'loss: '+ formatter.format(loss) + ' - '\n",
    "            + 'accuracy: ' + formatter.format(accuracy)\n",
    "        )\n",
    "        \n",
    "        if i == epoch-1 or (i+1)%(epoch/5) == 0:\n",
    "            print()\n",
    "            \n",
    "    def evaluate(self, test_data, test_label, cost=False, result=False):\n",
    "        \"\"\"Untuk mengukur akurasi model terhadap data di luar training data\"\"\"\n",
    "        \n",
    "        A = self.forward(test_data)\n",
    "        y_predict = A[-1]\n",
    "        \n",
    "        jawaban = np.argmax(y_predict, axis=1)\n",
    "        kunci_jawaban = np.argmax(test_label, axis=1)\n",
    "        periksa = (jawaban == kunci_jawaban).astype('int8')\n",
    "        accuracy = np.sum(periksa) / len(test_data)\n",
    "        \n",
    "        out = [accuracy]\n",
    "        if cost:\n",
    "            cost_value = getattr(CostFunction, self.loss_function)(self, self.val_history)\n",
    "            out.append(cost_value)\n",
    "        if result:\n",
    "            out.append(jawaban)\n",
    "        \n",
    "        if not(cost or result):\n",
    "            out = accuracy\n",
    "            \n",
    "        return out\n",
    "    \n",
    "    def train(self, input, output, learning_rate, epoch, x_val=None, y_val=None):\n",
    "        \n",
    "        \"\"\"Apakah menggunakan validasi data?\"\"\"\n",
    "        assert type(x_val) == type(y_val), \"Periksa data validasi!\"\n",
    "        if type(x_val) == type(np.array(1)):\n",
    "            self.validate = True\n",
    "            \n",
    "            self.x_val = x_val\n",
    "            self.y_val = y_val\n",
    "        else:\n",
    "            self.validate = False\n",
    "        \n",
    "        \"\"\"Deskripsi data dan model\"\"\"\n",
    "        \n",
    "        # Data utama murni hasil input\n",
    "        # gak diapa-apain\n",
    "        # jangan dipakai untuk training\n",
    "        self.train_data  = input\n",
    "        self.train_label = output\n",
    "        \n",
    "        # banyaknya baris dan kolom dari data\n",
    "        self.num_observation = self.train_data.shape[0]\n",
    "        self.num_feature     = self.train_data.shape[1]\n",
    "        \n",
    "        # learning rate dan epoch\n",
    "        self.learning_rate = learning_rate\n",
    "        self.epoch         = epoch\n",
    "        \n",
    "        self.banyak_layer = len(self.daftar_layer)\n",
    "        self.neurons      = [self.num_feature] + [self.daftar_layer[i].neurons for i in range(1, self.banyak_layer)]\n",
    "        self.activation   = [None] + [self.daftar_layer[i].activation for i in range(1, self.banyak_layer)]\n",
    "        \"\"\"\"\"\"\n",
    "        \n",
    "        \"\"\"Parameter\"\"\"\n",
    "        \n",
    "        # Random Seed\n",
    "        np.random.seed(10118096)\n",
    "        \n",
    "        self.W = [np.random.randn(self.neurons[i], self.neurons[i+1]) for i in range(len(self.neurons) - 1)] + [None]  # weights\n",
    "        self.b = [np.random.randn(1, self.neurons[i]) for i in range(1, len(self.neurons))] + [None]                   # bias\n",
    "        self.Z = [None for i in range(self.banyak_layer)]\n",
    "        self.A = [self.train_data] + [None for i in range(self.banyak_layer - 1)]\n",
    "        \"\"\"\"\"\"\n",
    "        \n",
    "        \"\"\"Rangkuman hasil training\"\"\"\n",
    "        self.history = {'training_time' : [], 'loss' : [], 'accuracy' : []}\n",
    "        \n",
    "        # jika perlu melakukan validasi, perlu menambahkan tabel histori khusus\n",
    "        if self.validate:\n",
    "            self.val_history = {'training_time' : [], 'loss' : [], 'accuracy' : []}\n",
    "        \"\"\"\"\"\"\n",
    "        \n",
    "        self.timer = TicToc()\n",
    "        self.timer.tic() # start timer\n",
    "        \n",
    "        \"\"\"Untuk training\"\"\"\n",
    "        X = self.train_data\n",
    "        y = self.train_label\n",
    "        \n",
    "        for i in range(epoch):\n",
    "            \n",
    "            A = self.forward(X)\n",
    "            self.y_predict = A[-1]\n",
    "            \n",
    "            \"\"\"Update history\"\"\"\n",
    "            self.add_training_time(self.history) # mencatat waktu training satu epoch\n",
    "            self.add_accuracy(self.history)      # mencatat akurasi setelah satu epoch\n",
    "            self.add_loss(self.history)          # mencatat loss setelah satu epoch\n",
    "            \"\"\"\"\"\"\n",
    "            \n",
    "            if self.validate:\n",
    "                [val_accuracy, val_cost] = self.evaluate(x_val, y_val, cost=True)\n",
    "                self.add_training_time(self.val_history) # mencatat waktu training satu epoch\n",
    "                self.add_accuracy(self.val_history)      # mencatat akurasi setelah satu epoch\n",
    "                self.add_loss(self.val_history)          # mencatat loss setelah satu epoch\n",
    "            \n",
    "            self.result_with_progress_bar(i) # menampilkan hasil training\n",
    "            \n",
    "            \"\"\"Perbaiki model\"\"\"\n",
    "            self.backward(A, y)\n",
    "            \n",
    "        \"\"\"Hitung total waktu training\"\"\"        \n",
    "        self.total_training_time = sum([float(time) for time in self.history['training_time']])\n",
    "        \n",
    "        \"\"\"Mengubah data history menjadi dataframe\"\"\"\n",
    "        self.history = pd.DataFrame(data=self.history).round(2)\n",
    "        self.history.index += 1 # indeks dimulai dari 1\n",
    "    \n",
    "    def show_graph(self, graph):\n",
    "        if graph in ['loss', 'training_loss']:\n",
    "            graph = 'loss'\n",
    "            title = 'Loss'\n",
    "        elif graph in ['accuracy', 'training_accuracy']:\n",
    "            graph = 'accuracy'\n",
    "            title = 'Accuracy'\n",
    "            \n",
    "        epoch = range(1, self.epoch + 1)\n",
    "        plt.plot(epoch, self.history[graph], label='training')\n",
    "        \n",
    "        if self.validate:\n",
    "            plt.plot(epoch, self.val_history[graph], label='validation')\n",
    "            plt.legend()\n",
    "        \n",
    "        plt.title(title)\n",
    "        plt.xlabel('epoch')\n",
    "        plt.ylabel(graph)\n",
    "        plt.show()"
   ]
  },
  {
   "cell_type": "code",
   "execution_count": 2,
   "id": "ba80e095",
   "metadata": {},
   "outputs": [],
   "source": [
    "AA = np.arange(20)\n",
    "np.random.shuffle(AA)"
   ]
  },
  {
   "cell_type": "code",
   "execution_count": 3,
   "id": "d22e489e",
   "metadata": {},
   "outputs": [
    {
     "data": {
      "text/plain": [
       "array([ 0,  1,  2,  3,  4,  5,  6,  7,  8,  9, 10, 11, 12, 13, 14, 15, 16,\n",
       "       17, 18, 19, 20, 21, 22, 23, 24, 25, 26, 27, 28, 29, 30, 31, 32, 33,\n",
       "       34, 35, 36, 37, 38, 39, 40, 41, 42, 43, 44, 45, 46, 47, 48, 49])"
      ]
     },
     "execution_count": 3,
     "metadata": {},
     "output_type": "execute_result"
    }
   ],
   "source": [
    "BB = np.arange(50)\n",
    "# BB = np.random.shuffle(BB)\n",
    "BB"
   ]
  },
  {
   "cell_type": "code",
   "execution_count": 4,
   "id": "8055061c",
   "metadata": {},
   "outputs": [
    {
     "data": {
      "text/plain": [
       "1"
      ]
     },
     "execution_count": 4,
     "metadata": {},
     "output_type": "execute_result"
    }
   ],
   "source": [
    "BB.ndim"
   ]
  },
  {
   "cell_type": "markdown",
   "id": "c70b9ac9",
   "metadata": {},
   "source": [
    "# Klasifikasi angka"
   ]
  },
  {
   "cell_type": "markdown",
   "id": "1246b47b",
   "metadata": {},
   "source": [
    "## Program"
   ]
  },
  {
   "cell_type": "code",
   "execution_count": 5,
   "id": "2c3f2e12",
   "metadata": {},
   "outputs": [],
   "source": [
    "import numpy as np\n",
    "import pandas as pd\n",
    "import matplotlib.pyplot as plt"
   ]
  },
  {
   "cell_type": "markdown",
   "id": "84e56e1b",
   "metadata": {},
   "source": [
    "## Data (28x28)"
   ]
  },
  {
   "cell_type": "raw",
   "id": "697180e4",
   "metadata": {},
   "source": [
    "from tensorflow.keras.datasets import mnist\n",
    "(train_images, train_labels), (test_images, test_labels) = mnist.load_data()\n",
    "\n",
    "# train_images adalah data yang ingin dipelajari\n",
    "# terdapat 60000 gambar hitam putih dengan ukuran 28x28 pixel dengan nilai pada interval [0,255]\n",
    "# proses deep learning adalah mengidentifikasi nilai angka dari handwritten digit"
   ]
  },
  {
   "cell_type": "raw",
   "id": "90071913",
   "metadata": {},
   "source": [
    "k = 1\n",
    "train_images = train_images[2000*(k-1):2000*k]\n",
    "train_labels = train_labels[2000*(k-1):2000*k]"
   ]
  },
  {
   "cell_type": "markdown",
   "id": "a619efc3",
   "metadata": {},
   "source": [
    "## Data (8x8)"
   ]
  },
  {
   "cell_type": "code",
   "execution_count": 6,
   "id": "716ebc6e",
   "metadata": {},
   "outputs": [],
   "source": [
    "import pandas as pd\n",
    "\n",
    "df = pd.read_table('./dataset/optdigits.tes',sep=',')\n",
    "\n",
    "train_images = df.drop(columns=['0.29']).to_numpy().reshape(1796, 8, 8)\n",
    "train_labels = df[['0.29']].to_numpy().T[0]"
   ]
  },
  {
   "cell_type": "markdown",
   "id": "a42e927c",
   "metadata": {},
   "source": [
    "## Tampilan data"
   ]
  },
  {
   "cell_type": "code",
   "execution_count": 7,
   "id": "9fcdaf62",
   "metadata": {},
   "outputs": [
    {
     "name": "stdout",
     "output_type": "stream",
     "text": [
      "Shape train_images : (1796, 8, 8)\n",
      "Shape train_labels : (1796,)\n"
     ]
    }
   ],
   "source": [
    "print(\"Shape train_images :\", train_images.shape)\n",
    "print(\"Shape train_labels :\", train_labels.shape)"
   ]
  },
  {
   "cell_type": "raw",
   "id": "417def28",
   "metadata": {},
   "source": [
    "# tampilkan gambar\n",
    "\n",
    "def show_image(index):\n",
    "    digit = train_images[index]\n",
    "    plt.imshow(digit, cmap=plt.cm.binary)\n",
    "    plt.show()"
   ]
  },
  {
   "cell_type": "raw",
   "id": "f2483251",
   "metadata": {},
   "source": [
    "for i in range(10):\n",
    "    show_image(i)"
   ]
  },
  {
   "cell_type": "markdown",
   "id": "d6330e3a",
   "metadata": {},
   "source": [
    "## Create network"
   ]
  },
  {
   "cell_type": "code",
   "execution_count": 8,
   "id": "a4e25716",
   "metadata": {},
   "outputs": [],
   "source": [
    "\"\"\"Import module\"\"\"\n",
    "\n",
    "# from ipynb.fs.full.neural_network import *\n",
    "\n",
    "# import sys\n",
    "# sys.path.append(\".\")\n",
    "# from neural_network import *\n",
    "\n",
    "\"\"\"Instantiation\"\"\"\n",
    "network = NeuralNetwork()\n",
    "\n",
    "\"\"\"Adding layers\"\"\"\n",
    "network.add_layer(Layers(128, activation='sigmoid', input_shape=28*28))  # layer 1\n",
    "network.add_layer(Layers(128, activation='sigmoid'))                     # Layer 2\n",
    "network.add_layer(Layers(10, activation='softmax'))                      # Layer 3 atau output layer\n",
    "\n",
    "\"\"\"Define optimizer and cost function\"\"\"\n",
    "network.compile(optimizer='grad_descent', loss_function='cross_entropy')"
   ]
  },
  {
   "cell_type": "markdown",
   "id": "f86f077b",
   "metadata": {},
   "source": [
    "## Training"
   ]
  },
  {
   "cell_type": "code",
   "execution_count": 9,
   "id": "081f621d",
   "metadata": {
    "scrolled": false
   },
   "outputs": [
    {
     "name": "stdout",
     "output_type": "stream",
     "text": [
      "Epoch 20/100  - training time: 0.08s - loss: 1.1411 - accuracy: 0.78810\n",
      "Epoch 40/100  - training time: 0.08s - loss: 0.2839 - accuracy: 0.9563\n",
      "Epoch 60/100  - training time: 0.08s - loss: 0.1844 - accuracy: 0.9825\n",
      "Epoch 80/100  - training time: 0.08s - loss: 0.1387 - accuracy: 0.9888\n",
      "Epoch 100/100 - training time: 0.08s - loss: 0.1100 - accuracy: 0.9938\n"
     ]
    }
   ],
   "source": [
    "X = train_images.reshape(train_images.shape[0], -1).astype('float32')\n",
    "y = pd.get_dummies(train_labels).to_numpy().astype('float32')         # one hot encoding\n",
    "\n",
    "# train data\n",
    "X_train = X[:1600]\n",
    "y_train = y[:1600]\n",
    "\n",
    "# test data\n",
    "X_test = X[1600:]\n",
    "y_test = y[1600:]\n",
    "\n",
    "network.train(X_train, y_train, learning_rate=1, epoch=100, x_val=X_test, y_val=y_test)"
   ]
  },
  {
   "cell_type": "code",
   "execution_count": 10,
   "id": "55c3fdd5",
   "metadata": {},
   "outputs": [
    {
     "data": {
      "text/plain": [
       "(1796, 64)"
      ]
     },
     "execution_count": 10,
     "metadata": {},
     "output_type": "execute_result"
    }
   ],
   "source": [
    "X.shape"
   ]
  },
  {
   "cell_type": "code",
   "execution_count": 11,
   "id": "c2ae6711",
   "metadata": {},
   "outputs": [
    {
     "name": "stdout",
     "output_type": "stream",
     "text": [
      "Total waktu training: 8.24s\n",
      "Akurasi: 99.00%\n"
     ]
    }
   ],
   "source": [
    "print(f'Total waktu training: {\"{:.2f}\".format(network.total_training_time)}s')\n",
    "\n",
    "accuracy = 100*network.history['accuracy'][network.epoch]\n",
    "print(f'Akurasi: {\"{:.2f}\".format(accuracy)}%')"
   ]
  },
  {
   "cell_type": "code",
   "execution_count": 12,
   "id": "717331f2",
   "metadata": {},
   "outputs": [
    {
     "data": {
      "image/png": "[encoded data removed]",
      "text/plain": [
       "<Figure size 432x288 with 1 Axes>"
      ]
     },
     "metadata": {
      "needs_background": "light"
     },
     "output_type": "display_data"
    }
   ],
   "source": [
    "network.show_graph('accuracy')"
   ]
  },
  {
   "cell_type": "code",
   "execution_count": 13,
   "id": "c1f8c6b1",
   "metadata": {},
   "outputs": [
    {
     "name": "stdout",
     "output_type": "stream",
     "text": [
      "Akurasi tes: 83.16%\n"
     ]
    }
   ],
   "source": [
    "accuracy = 100*network.evaluate(X_test, y_test)\n",
    "print(f'Akurasi tes: {\"{:.2f}\".format(accuracy)}%')"
   ]
  },
  {
   "cell_type": "markdown",
   "id": "f1b8ac78",
   "metadata": {},
   "source": [
    "# Klasifikasi pakaian"
   ]
  },
  {
   "cell_type": "markdown",
   "id": "fb15e3d3",
   "metadata": {},
   "source": [
    "## Program"
   ]
  },
  {
   "cell_type": "code",
   "execution_count": 14,
   "id": "9f4e512c",
   "metadata": {},
   "outputs": [],
   "source": [
    "import numpy as np\n",
    "import pandas as pd\n",
    "import matplotlib.pyplot as plt"
   ]
  },
  {
   "cell_type": "markdown",
   "id": "3e8370d2",
   "metadata": {},
   "source": [
    "## Data"
   ]
  },
  {
   "cell_type": "code",
   "execution_count": 15,
   "id": "8af9aeb8",
   "metadata": {},
   "outputs": [
    {
     "name": "stdout",
     "output_type": "stream",
     "text": [
      "Shape train_images : (60000, 28, 28)\n",
      "Shape train_labels : (60000,)\n",
      "train_labels :  [9 0 0 ... 3 0 5]\n"
     ]
    }
   ],
   "source": [
    "from tensorflow.keras.datasets import fashion_mnist\n",
    "(train_images, train_labels), (test_images, test_labels) = fashion_mnist.load_data()\n",
    "\n",
    "print(\"Shape train_images :\", train_images.shape)\n",
    "print(\"Shape train_labels :\", train_labels.shape)\n",
    "print(\"train_labels : \", train_labels)\n",
    "\n",
    "# train_images adalah data yang ingin dipelajari\n",
    "# terdapat 60000 gambar hitam putih dengan ukuran 28x28 pixel dengan nilai pada interval [0,255]\n",
    "# proses deep learning adalah mengidentifikasi nilai angka dari handwritten digit"
   ]
  },
  {
   "cell_type": "markdown",
   "id": "a24e2907",
   "metadata": {},
   "source": [
    "## Pemilihan data untuk training"
   ]
  },
  {
   "cell_type": "raw",
   "id": "0c68cac9",
   "metadata": {},
   "source": [
    "k = 1\n",
    "\n",
    "train_images = train_images[2000*(k-1):2000*k]\n",
    "train_labels = train_labels[2000*(k-1):2000*k]"
   ]
  },
  {
   "cell_type": "markdown",
   "id": "d05ccf63",
   "metadata": {},
   "source": [
    "## Tampilan data"
   ]
  },
  {
   "cell_type": "code",
   "execution_count": 16,
   "id": "d9e01cba",
   "metadata": {},
   "outputs": [],
   "source": [
    "# tampilkan gambar\n",
    "\n",
    "def show_image(index):\n",
    "    digit = train_images[index]\n",
    "    plt.imshow(digit, cmap=plt.cm.binary)\n",
    "    plt.show()"
   ]
  },
  {
   "cell_type": "raw",
   "id": "0d13b064",
   "metadata": {},
   "source": [
    "for i in range(10):\n",
    "    show_image(i)"
   ]
  },
  {
   "cell_type": "markdown",
   "id": "59866945",
   "metadata": {},
   "source": [
    "## Create network (1)"
   ]
  },
  {
   "cell_type": "code",
   "execution_count": 17,
   "id": "c0db3ccb",
   "metadata": {},
   "outputs": [],
   "source": [
    "\"\"\"Import module\"\"\"\n",
    "\n",
    "# from ipynb.fs.full.neural_network import *\n",
    "\n",
    "# import sys\n",
    "# sys.path.append(\".\")\n",
    "# from neural_network import *\n",
    "\n",
    "\"\"\"Instantiation\"\"\"\n",
    "network = NeuralNetwork()\n",
    "\n",
    "\"\"\"Adding layers\"\"\"\n",
    "network.add_layer(Layers(256, activation='sigmoid', input_shape=28*28)) # layer 1\n",
    "network.add_layer(Layers(128, activation='sigmoid'))                    # Layer 2\n",
    "network.add_layer(Layers(10, activation='softmax'))                     # Layer 3 atau output layer\n",
    "\n",
    "\"\"\"Define optimizer and cost function\"\"\"\n",
    "network.compile(optimizer='grad_descent', loss_function='cross_entropy')"
   ]
  },
  {
   "cell_type": "markdown",
   "id": "e887cead",
   "metadata": {},
   "source": [
    "## Training"
   ]
  },
  {
   "cell_type": "code",
   "execution_count": 18,
   "id": "01df2a99",
   "metadata": {},
   "outputs": [
    {
     "name": "stderr",
     "output_type": "stream",
     "text": [
      "C:\\Users\\FAKHRY~1\\AppData\\Local\\Temp/ipykernel_8316/970084401.py:16: RuntimeWarning: overflow encountered in exp\n",
      "  return 1 / (1 + np.exp(-z))\n"
     ]
    },
    {
     "name": "stdout",
     "output_type": "stream",
     "text": [
      "Epoch 2/10  - training time: 6.35s - loss: 11.2854 - accuracy: 0.1414\n",
      "Epoch 4/10  - training time: 5.50s - loss: 10.8337 - accuracy: 0.2449\n",
      "Epoch 6/10  - training time: 5.91s - loss: 10.9837 - accuracy: 0.2540\n",
      "Epoch 8/10  - training time: 5.63s - loss: 7.8430 - accuracy: 0.3585\n",
      "Epoch 10/10 - training time: 6.16s - loss: 6.8847 - accuracy: 0.3861\n"
     ]
    }
   ],
   "source": [
    "X = train_images.reshape(train_images.shape[0], -1).astype('float32')\n",
    "y = pd.get_dummies(train_labels).to_numpy().astype('float32')\n",
    "\n",
    "alpha = 1\n",
    "epochs = 10\n",
    "\n",
    "network.train(X, y, alpha, epochs)"
   ]
  },
  {
   "cell_type": "code",
   "execution_count": 19,
   "id": "e2fbbb48",
   "metadata": {},
   "outputs": [
    {
     "name": "stdout",
     "output_type": "stream",
     "text": [
      "Total waktu training: 56.14s\n",
      "Akurasi: 39.00%\n"
     ]
    }
   ],
   "source": [
    "print(f'Total waktu training: {\"{:.2f}\".format(network.total_training_time)}s')\n",
    "\n",
    "accuracy = 100*network.history['accuracy'][network.epoch]\n",
    "print(f'Akurasi: {\"{:.2f}\".format(accuracy)}%')"
   ]
  },
  {
   "cell_type": "code",
   "execution_count": 20,
   "id": "73e6b44c",
   "metadata": {},
   "outputs": [
    {
     "data": {
      "image/png": "[encoded data removed]",
      "text/plain": [
       "<Figure size 432x288 with 1 Axes>"
      ]
     },
     "metadata": {
      "needs_background": "light"
     },
     "output_type": "display_data"
    },
    {
     "data": {
      "image/png": "[encoded data removed]",
      "text/plain": [
       "<Figure size 432x288 with 1 Axes>"
      ]
     },
     "metadata": {
      "needs_background": "light"
     },
     "output_type": "display_data"
    }
   ],
   "source": [
    "epochs = range(1, len(network.history['loss']) + 1)\n",
    "plt.plot(epochs, network.history['loss'])\n",
    "plt.title(\"Training loss\")\n",
    "plt.xlabel('Epochs')\n",
    "plt.ylabel('Loss')\n",
    "plt.show()\n",
    "\n",
    "epochs = range(1, len(network.history['accuracy']) + 1)\n",
    "plt.plot(epochs, network.history['accuracy'])\n",
    "plt.title(\"Training accuracy\")\n",
    "plt.xlabel('Epochs')\n",
    "plt.ylabel('Accuracy')\n",
    "plt.show()"
   ]
  },
  {
   "cell_type": "code",
   "execution_count": null,
   "id": "74459f57",
   "metadata": {},
   "outputs": [],
   "source": []
  }
 ],
 "metadata": {
  "kernelspec": {
   "display_name": "Python 3 (ipykernel)",
   "language": "python",
   "name": "python3"
  },
  "language_info": {
   "codemirror_mode": {
    "name": "ipython",
    "version": 3
   },
   "file_extension": ".py",
   "mimetype": "text/x-python",
   "name": "python",
   "nbconvert_exporter": "python",
   "pygments_lexer": "ipython3",
   "version": "3.8.8"
  }
 },
 "nbformat": 4,
 "nbformat_minor": 5
}
